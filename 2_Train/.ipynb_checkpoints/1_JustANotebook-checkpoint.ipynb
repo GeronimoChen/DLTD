{
 "cells": [
  {
   "cell_type": "markdown",
   "id": "6926df23",
   "metadata": {},
   "source": [
    "# Training The Neural Network\n",
    "\n",
    "In this notebook, we train the nerual network.  \n",
    "To execute the training, please run the script \"NNElemMeta.py\".  \n",
    "There are three arguments when running the script. The first argument specifies the output of the neural network. If it is \"0\", then the output of this neural network is the element abundance of the 0-th (the innermost) Zone. Similary, when it is 1 to 5, then the output is the element abundance of the 1-st to 5-th Zone. When it is \"6\", then the output is the photosphere velocity and luminosity.  \n",
    "The second argument is model index, you can pick any number you like. If you want to train multiple neural networks and compare the performance between them, you can specify different model index numbers.  \n",
    "The third argument is the number of GPU. If you only have one GPU on your machine, just use 0. If you have many GPUs on your machine, you can set it as 1 or 2 or ... to specify which GPU you want to use.  \n",
    "\n",
    "\n",
    "\n",
    "The neural network uses the normalized TARDIS spectra and density profile and time after explosion as input, then predict the element abundance of 6 zones and the luminosity and the photosphere velocity.  \n",
    "\n",
    "\n",
    "\n",
    "When running the script, please make sure there is a file called \"Prim.ascii\", it is an example TARDIS spectrum, and I use the wavelength grid for some uses. There is a script called \"GaussianNetworkKit.py\", which has some neural network functions. There is a folder called \"DataSet\" which contains the training and testing data. The output of the script is the trained neural network, the training data set loss, and the testing data set loss. The trained neural networks will be stored in the \"MdSaver\" folder. The network names are \"Model\\_\\*\\_\\*.hdf\", the first value is the number of the output, specifying which zone of the supernova plasma, or the photosphere velocity and luminosity. The second value is the model index. "
   ]
  },
  {
   "cell_type": "code",
   "execution_count": null,
   "id": "84a3ef0c",
   "metadata": {},
   "outputs": [],
   "source": [
    "!python NNElemMetaFewLargeSig.py 0 0 0"
   ]
  },
  {
   "cell_type": "code",
   "execution_count": null,
   "id": "3d16fcce",
   "metadata": {},
   "outputs": [],
   "source": [
    "!python NNElemMetaFewLargeSig.py 1 0 0"
   ]
  },
  {
   "cell_type": "code",
   "execution_count": null,
   "id": "fa74a004",
   "metadata": {},
   "outputs": [],
   "source": [
    "!python NNElemMetaFewLargeSig.py 2 0 0"
   ]
  },
  {
   "cell_type": "code",
   "execution_count": null,
   "id": "145d6fa9",
   "metadata": {},
   "outputs": [],
   "source": [
    "!python NNElemMetaFewLargeSig.py 3 0 0"
   ]
  },
  {
   "cell_type": "code",
   "execution_count": null,
   "id": "5e6de55f",
   "metadata": {},
   "outputs": [],
   "source": [
    "!python NNElemMetaFewLargeSig.py 4 0 0"
   ]
  },
  {
   "cell_type": "code",
   "execution_count": null,
   "id": "aa425e40",
   "metadata": {},
   "outputs": [],
   "source": [
    "!python NNElemMetaFewLargeSig.py 5 0 0"
   ]
  },
  {
   "cell_type": "code",
   "execution_count": null,
   "id": "788c51fd",
   "metadata": {},
   "outputs": [],
   "source": [
    "!python NNElemMetaFewLargeSig.py 6 0 0"
   ]
  },
  {
   "cell_type": "code",
   "execution_count": null,
   "id": "ae565ed0",
   "metadata": {},
   "outputs": [],
   "source": []
  },
  {
   "cell_type": "code",
   "execution_count": null,
   "id": "fadfc1cb",
   "metadata": {},
   "outputs": [],
   "source": []
  },
  {
   "cell_type": "code",
   "execution_count": null,
   "id": "2558ed2e",
   "metadata": {},
   "outputs": [],
   "source": []
  }
 ],
 "metadata": {
  "kernelspec": {
   "display_name": "Python [conda env:.conda-keras] *",
   "language": "python",
   "name": "conda-env-.conda-keras-py"
  },
  "language_info": {
   "codemirror_mode": {
    "name": "ipython",
    "version": 3
   },
   "file_extension": ".py",
   "mimetype": "text/x-python",
   "name": "python",
   "nbconvert_exporter": "python",
   "pygments_lexer": "ipython3",
   "version": "3.9.0"
  }
 },
 "nbformat": 4,
 "nbformat_minor": 5
}
