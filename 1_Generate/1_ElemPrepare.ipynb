{
 "cells": [
  {
   "cell_type": "code",
   "execution_count": 2,
   "id": "559e8164",
   "metadata": {},
   "outputs": [],
   "source": [
    "import numpy as np\n",
    "import pandas as pd\n",
    "import matplotlib.pyplot as plt\n",
    "from scipy.interpolate import interp1d"
   ]
  },
  {
   "cell_type": "markdown",
   "id": "d9595655",
   "metadata": {},
   "source": [
    "# Prepare to run tardis\n",
    "\n",
    "In this notebook, I prepare the element abundance, time after explosion, luminosity, density profile data, which will be used in running the tardis radiative transfer program.  \n",
    "Firstly, there is a grid. The time after explosion will be sampled between 10 days and 40 days. There is also photosphere velocity upper limit and lower limit grid, when a time after explosion is known, the photosphere velocity will be sampled between the upper limit and the lower limit, given by the linear interpolation of the grid. Similary, we firstly linearly interpolate the luminosity upper limit and lower limit when a time is given, then sample the luminosity between the limits. "
   ]
  },
  {
   "cell_type": "code",
   "execution_count": 18,
   "id": "51522f25",
   "metadata": {},
   "outputs": [],
   "source": [
    "timeGrid=np.array(  [10   ,12   ,14   ,16   ,18   ,20   ,22   ,24   ,26   ,28   ,30   ,32   ,34   ,36   ,38   ,40  ])\n",
    "veloUpGrid=np.array([13000,13000,12000,10000,8200 ,7500 ,6700 ,6200 ,5800 ,5100 ,4900 ,4700 ,4700 ,4700 ,4700 ,4700])\n",
    "veloLoGrid=np.array([10500,10000,9000 ,7800 ,7000 ,6400 ,5700 ,5200 ,4500 ,4300 ,4000 ,3750 ,3500 ,3500 ,3500 ,3500])\n",
    "lumiUpGrid=np.array([8.35 ,8.4  ,8.5  ,8.6  ,8.7  ,8.7  ,8.65 ,8.65 ,8.62 ,8.6  ,8.52 ,8.5  ,8.45 ,8.35 ,8.3  ,8.2 ])\n",
    "lumiLoGrid=np.array([8.2  ,8.3  ,8.4  ,8.5  ,8.5  ,8.55 ,8.55 ,8.5  ,8.47 ,8.42 ,8.38 ,8.3  ,8.15 ,8.1  ,8.0  ,7.8 ])\n",
    "\n",
    "veloUpFunc=interp1d(timeGrid,veloUpGrid)\n",
    "veloLoFunc=interp1d(timeGrid,veloLoGrid)\n",
    "lumiUpFunc=interp1d(timeGrid,lumiUpGrid)\n",
    "lumiLoFunc=interp1d(timeGrid,lumiLoGrid)"
   ]
  },
  {
   "cell_type": "markdown",
   "id": "710abe45",
   "metadata": {},
   "source": [
    "# The Model\n",
    "The IGE model mentioned in the paper is stored in \"ProberIG/IGenhance/\" directory. "
   ]
  },
  {
   "cell_type": "code",
   "execution_count": 19,
   "id": "18d3be56",
   "metadata": {},
   "outputs": [],
   "source": [
    "IGEdens=np.genfromtxt('ProberIG/IGenhance/Density.dat',skip_header=1)\n",
    "IGEelem=np.genfromtxt('ProberIG/IGenhance/IGenhanceElem.dat')\n",
    "baseElem=np.zeros([6,30])"
   ]
  },
  {
   "cell_type": "code",
   "execution_count": 20,
   "id": "4942d6a3",
   "metadata": {},
   "outputs": [],
   "source": [
    "for i in range(30):\n",
    "    baseElem[0,i]=IGEelem[1,i+1]\n",
    "    baseElem[1,i]=IGEelem[13,i+1]\n",
    "    baseElem[2,i]=IGEelem[23,i+1]\n",
    "    baseElem[3,i]=IGEelem[33,i+1]\n",
    "    baseElem[4,i]=IGEelem[46,i+1]\n",
    "    baseElem[5,i]=IGEelem[69,i+1]"
   ]
  },
  {
   "cell_type": "code",
   "execution_count": 21,
   "id": "b1bf5433",
   "metadata": {},
   "outputs": [],
   "source": [
    "def newElemSampler(ElemSize=200):\n",
    "    elemNewList=[]\n",
    "    for i in range(ElemSize):\n",
    "        randGen=np.e**(np.random.normal(size=baseElem.shape))\n",
    "        elemCh=baseElem*randGen\n",
    "        elemCh=elemCh/np.sum(elemCh,axis=1).reshape([-1,1])\n",
    "        elemNewList.append(elemCh)\n",
    "    elemNewList=np.array(elemNewList)\n",
    "    return elemNewList"
   ]
  },
  {
   "cell_type": "code",
   "execution_count": 22,
   "id": "928aaf36",
   "metadata": {},
   "outputs": [],
   "source": [
    "def densSampler(DensSize=200):\n",
    "    return np.random.random(size=(DensSize,2))*np.array([2,1.8])+np.array([0,0.2])"
   ]
  },
  {
   "cell_type": "code",
   "execution_count": 23,
   "id": "ee8c6074",
   "metadata": {},
   "outputs": [],
   "source": [
    "def timeSampler(TimeSize=200):\n",
    "    return np.random.random(TimeSize)*30+10"
   ]
  },
  {
   "cell_type": "code",
   "execution_count": 24,
   "id": "1a29c4d9",
   "metadata": {},
   "outputs": [],
   "source": [
    "def lumiSampler(timeIn):\n",
    "    lumiUpSa=lumiUpFunc(timeIn)\n",
    "    lumiLoSa=lumiLoFunc(timeIn)\n",
    "    return np.random.random(len(timeIn))*(lumiUpSa-lumiLoSa)+lumiLoSa"
   ]
  },
  {
   "cell_type": "code",
   "execution_count": 26,
   "id": "eccf4c87",
   "metadata": {},
   "outputs": [],
   "source": [
    "def photSampler(timeIn):\n",
    "    photUpSa=veloUpFunc(timeIn)\n",
    "    photLoSa=veloLoFunc(timeIn)\n",
    "    return np.random.random(len(timeIn))*(photUpSa-photLoSa)+photLoSa"
   ]
  },
  {
   "cell_type": "markdown",
   "id": "57a8813b",
   "metadata": {},
   "source": [
    "# Sampled\n",
    "Here, the program will generate several files and save them in the \"ParamIn2\" directory. The \"\\_Aux.npy\" file contains the luminosity, time after explosion, photosphere velocity, density offset, density slope data, so there are 5 columns and (number of ejecta model) rows of data. The \"\\_Elem.npy\" file contains the element abudnace data, and there are 30 elements, 6 zones, and (number of ejecta model), forming a 3 dimensional data cube.  \n",
    "I specify the \"JobIndex\" and \"ThreadIndex\" values, and they are used in the filenames. These two values are useful when running many tardis simulations on a supercomputer.  \n",
    "There are several examples already in the \"ParamIn2\" Folder, just examples, I didn't use them in the paper.  "
   ]
  },
  {
   "cell_type": "code",
   "execution_count": 42,
   "id": "c6b084e6",
   "metadata": {},
   "outputs": [],
   "source": [
    "elemDataList=[]\n",
    "OneSize=40\n",
    "for JobIndex in range(0,2):\n",
    "    for ThreadIndex in range(0,2):\n",
    "        preFix=str(JobIndex)+'_'+str(ThreadIndex)\n",
    "        tableData=np.zeros([OneSize,5])\n",
    "        timeSamp=timeSampler(OneSize)\n",
    "        tableData[:,0]=lumiSampler(timeSamp)\n",
    "        tableData[:,1]=timeSamp\n",
    "        tableData[:,2]=photSampler(timeSamp)\n",
    "        tableData[:,3:5]=densSampler(OneSize)\n",
    "        np.save('ParamIn2/'+preFix+'_Aux.npy',tableData)\n",
    "        elemData=newElemSampler(OneSize)\n",
    "        elemDataList.append(elemData)\n",
    "        np.save('ParamIn2/'+preFix+'_Elem.npy',elemData)"
   ]
  },
  {
   "cell_type": "markdown",
   "id": "9b022a90",
   "metadata": {},
   "source": [
    "# Running Program\n",
    "\n",
    "Now the preparation is complete, now you will run \"python 200Tar.py 0_0\" in the terminal, or add them into the scripts you want to submit onto supercomputer job queue. The \"0_0\" is called \"prefix\" and are related to the \"JobIndex\" and \"ThreadIndex\" parameters in the previous cell, please make sure that \"prefix_Elem.npy\" and \"prefix_Aux.npy\" files are available.  \n",
    "\n",
    "Oh by the way, you will need to specify the \"homeRunDir\" value in the \"200Tar.py\" script, it should be the absolute path to this notebook, if everything works, or you will need to debug... \n",
    "\n",
    "And by the way, please make sure there is a folder called \"Cache/\", it will save the \".yml\" files for TARDIS simulation. And there should be a folder called \"SpecOut2\", which stores the spectra come out of TARDIS simulation. In the \"SpecOut2\" folder, the spectra will be stored in a similar structure as the supernova models in \"ParamIn2\", identified with the \"prefix\" keywords and indices in the data matrix. Also, you will need to open the \"ProberIG/IGenhance/IGenhance.yml\" file, and change the path to the atomic data file.  "
   ]
  },
  {
   "cell_type": "code",
   "execution_count": 43,
   "id": "0c30d5bf",
   "metadata": {},
   "outputs": [
    {
     "name": "stdout",
     "output_type": "stream",
     "text": [
      "Traceback (most recent call last):\r\n",
      "  File \"/scratch/user/chenxingzhuo/YYTD/GithubUpload/1_Generate/200Tar.py\", line 4, in <module>\r\n",
      "    import tardis\r\n",
      "ModuleNotFoundError: No module named 'tardis'\r\n"
     ]
    }
   ],
   "source": [
    "!python 200Tar.py 0_0"
   ]
  },
  {
   "cell_type": "code",
   "execution_count": null,
   "id": "d98f7e39",
   "metadata": {},
   "outputs": [],
   "source": []
  },
  {
   "cell_type": "code",
   "execution_count": null,
   "id": "1747c00e",
   "metadata": {},
   "outputs": [],
   "source": []
  },
  {
   "cell_type": "code",
   "execution_count": null,
   "id": "965f02ff",
   "metadata": {},
   "outputs": [],
   "source": []
  },
  {
   "cell_type": "code",
   "execution_count": null,
   "id": "c879e955",
   "metadata": {},
   "outputs": [],
   "source": []
  },
  {
   "cell_type": "code",
   "execution_count": null,
   "id": "89cfc3d1",
   "metadata": {},
   "outputs": [],
   "source": []
  }
 ],
 "metadata": {
  "kernelspec": {
   "display_name": "Python [conda env:.conda-keras] *",
   "language": "python",
   "name": "conda-env-.conda-keras-py"
  },
  "language_info": {
   "codemirror_mode": {
    "name": "ipython",
    "version": 3
   },
   "file_extension": ".py",
   "mimetype": "text/x-python",
   "name": "python",
   "nbconvert_exporter": "python",
   "pygments_lexer": "ipython3",
   "version": "3.9.0"
  }
 },
 "nbformat": 4,
 "nbformat_minor": 5
}
