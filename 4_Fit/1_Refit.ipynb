{
 "cells": [
  {
   "cell_type": "markdown",
   "id": "d9858fab",
   "metadata": {},
   "source": [
    "# The Fitting\n",
    "\n",
    "When the prediction is done, there is a density parameter grid, and the element abundances relating to all the parameters to the density parameter grid, for each spectrum. In this notebook, we will use the observed supernova spectral time sequence, to determine the best density parameter among the grid. Using that best density parameter and the relating element abundance and luminosity and photosphere velocity, all the TARDIS simulated spectra should be consistent to the observed spectra.  \n",
    "\n",
    "Because all the spectra from a supernova should share a same density structure, type Ia supernova ejecta expands homologusly around this time. "
   ]
  },
  {
   "cell_type": "markdown",
   "id": "3859c7b1",
   "metadata": {},
   "source": [
    "# The Fitting Code\n",
    "\n",
    "You can run the \"GridUltraSearch.py\" code to fit the model onto a spectral time sequence.  \n",
    "When running this code, you will need to change several things. Firstly, you will need to find a cache directory, which stores the input file and spectra of TARDIS simulation, and an output directory, which stores the simulated spectral time sequence. Secondly, you will need to change \"tamulauncher\" to something else, it is a load-balance program only on Texas A&M University supercomputers and you probably don't have that thing. That program is very helpful when running multiple TARDIS simulations on multiple machines. Thirdly, you will specify which element data base you want to use for TARDIS simulation.  \n"
   ]
  },
  {
   "cell_type": "code",
   "execution_count": 5,
   "id": "20b86ebb",
   "metadata": {},
   "outputs": [],
   "source": [
    "!python GridUltraSearch.py SN2011fe"
   ]
  },
  {
   "cell_type": "markdown",
   "id": "bad20161",
   "metadata": {},
   "source": [
    "# Extract the Best\n",
    "\n",
    "In the folder \"predOutMassive\", there are already many simulation spectra of the supernovae used in the paper. To extract the best density profile for a certain supernova, which can fit most of the observed spectra, here it is the code. "
   ]
  },
  {
   "cell_type": "code",
   "execution_count": 2,
   "id": "567533f8",
   "metadata": {},
   "outputs": [],
   "source": [
    "import os\n",
    "import sys\n",
    "import time\n",
    "import glob\n",
    "import yaml\n",
    "#import tardis\n",
    "import astropy\n",
    "import numpy as np\n",
    "import pandas as pd\n",
    "import astropy.units as u\n",
    "import astropy.constants as c\n",
    "import matplotlib.pyplot as plt\n",
    "from scipy.interpolate import interp1d\n",
    "from scipy.ndimage.filters import gaussian_filter1d"
   ]
  },
  {
   "cell_type": "markdown",
   "id": "f0a4f191",
   "metadata": {},
   "source": [
    "# Something Boring\n",
    "\n",
    "Similar to what you have done in the \"GridUltraSearch.py\" script, you will need to specify several paths.  \n",
    "Firstly, all the spectra should be stored in \"predOutMassive\".  \n",
    "Secondly, your supernova list should be in \"dm15List2.csv\". This list is similar to the \"dm15WithDens.csv\" list, which is given in the folder, but no need to include the density parameters \"pivot\" and \"slope\", as we are going to find them soon.  \n",
    "Thirdly, change the \"homedir\", \"cachedir\", and \"specoutdir\" as is in the \"GridUltraSearch.py\" script.  "
   ]
  },
  {
   "cell_type": "code",
   "execution_count": null,
   "id": "e767e0fb",
   "metadata": {},
   "outputs": [],
   "source": [
    "snNameList=[i.split('/')[-1] for i in glob.glob('predOutMassive/*')]\n",
    "dm15List=pd.read_csv('dm15List2.csv')"
   ]
  },
  {
   "cell_type": "code",
   "execution_count": 3,
   "id": "3d3a56db",
   "metadata": {},
   "outputs": [],
   "source": [
    "solarLumi=3.846*10**33*u.erg/u.s\n",
    "wave=np.genfromtxt('Prim.ascii')[:,0]\n",
    "def Normalizer(spec,shortwave=6500,longwave=7500):\n",
    "    small=np.argmin(abs(spec[:,0]-shortwave))\n",
    "    long=np.argmin(abs(spec[:,0]-longwave))\n",
    "    if small<long:spec[:,1]=spec[:,1]/np.average(spec[small:long,1])\n",
    "    if small>long:spec[:,1]=spec[:,1]/np.average(spec[long:small,1])\n",
    "    return spec\n"
   ]
  },
  {
   "cell_type": "code",
   "execution_count": null,
   "id": "eaaf4702",
   "metadata": {},
   "outputs": [],
   "source": [
    "homedir='/scratch/user/chenxingzhuo/DLTD/NewNewIGE/'\n",
    "cachedir='/scratch/user/chenxingzhuo/DLTD/SuperLargeFit/CacheTest/'\n",
    "specoutdir='/scratch/user/chenxingzhuo/DLTD/SuperLargeFitRefine/SpecOutMassive/'"
   ]
  },
  {
   "cell_type": "code",
   "execution_count": null,
   "id": "397279af",
   "metadata": {},
   "outputs": [],
   "source": [
    "IGEdens=np.genfromtxt(homedir+'IGenhance/Density.dat',skip_header=1)\n",
    "IGEelem=np.genfromtxt(homedir+'IGenhance/IGenhanceElem.dat')\n",
    "IGEvelo=IGEdens[:,1]\n",
    "IGEelem[:,1:]=IGEelem[:,1:]-10**-6+10**-8"
   ]
  },
  {
   "cell_type": "code",
   "execution_count": null,
   "id": "fcd89583",
   "metadata": {},
   "outputs": [],
   "source": [
    "def BestSelecter(FitFluxIn,ObsSpecIn,matBigIn,auxBigIn,returnList=False):\n",
    "    pivotList=[]\n",
    "    pivotIndexList=[]\n",
    "    slopeList=[]\n",
    "    slopeIndexList=[]\n",
    "    chisqList=[]\n",
    "    for pivInd in range(FitFluxIn.shape[0]):\n",
    "        for sloInd in range(FitFluxIn.shape[1]):\n",
    "            fluxList=FitFluxIn[pivInd,sloInd]\n",
    "            if np.isnan(np.sum(fluxList)):continue\n",
    "            pivot=auxBigIn[pivInd,sloInd,0,3]\n",
    "            slope=auxBigIn[pivInd,sloInd,0,4]\n",
    "            pivotList.append(round(float(pivot),3))\n",
    "            slopeList.append(round(float(slope),3))\n",
    "            pivotIndexList.append(pivInd)\n",
    "            slopeIndexList.append(sloInd)\n",
    "            chisqOneSeq=0\n",
    "            for j in range(len(ObsSpecIn)):\n",
    "                fluxObs=ObsSpecIn[j][:,0]\n",
    "                fluxFit=fluxList[j]\n",
    "                mask=(fluxObs>0)\n",
    "                fluxObs=fluxObs[mask]\n",
    "                fluxFit=fluxFit[mask]\n",
    "                fluxObs=fluxObs/np.mean(fluxObs)\n",
    "                fluxFit=fluxFit/np.mean(fluxFit)\n",
    "                chisqOneSeq=chisqOneSeq+np.sum((fluxObs-fluxFit)**2)\n",
    "            chisqList.append(chisqOneSeq)\n",
    "    chisqList=np.array(chisqList)\n",
    "    print(chisqList)\n",
    "    print(pivotList)\n",
    "    print(slopeList)\n",
    "    minHere=np.nanargmin(chisqList)\n",
    "    pivotCen=pivotList[minHere]\n",
    "    slopeCen=slopeList[minHere]\n",
    "    if returnList==False:\n",
    "        return pivotCen,slopeCen\n",
    "    else:\n",
    "        return pivotCen,slopeCen,chisqList,pivotList,pivotIndexList,slopeList,slopeIndexList"
   ]
  },
  {
   "cell_type": "markdown",
   "id": "cef43301",
   "metadata": {},
   "source": [
    "# The Best! \n",
    "\n",
    "The simulated spectral sequence with the best density parameter will be stored in the folder \"BestSeq\", and the list \"dm15List\" will add two columns of the density parameters.  "
   ]
  },
  {
   "cell_type": "code",
   "execution_count": null,
   "id": "942f0f57",
   "metadata": {},
   "outputs": [],
   "source": [
    "dm15List['pivot']=np.nan\n",
    "dm15List['slope']=np.nan\n",
    "for i in range(len(dm15List)):\n",
    "    snname=dm15List['ObjName'].iloc[i]\n",
    "    \n",
    "    try:FitFlux=np.load(specoutdir+snname+'_FitFlux.npy')\n",
    "    except:continue\n",
    "    \n",
    "    matBig=np.load('predOutMassive/'+snname+'/matBig.npy')\n",
    "    errBig=np.load('predOutMassive/'+snname+'/errBig.npy')\n",
    "    auxBig=np.load('predOutMassive/'+snname+'/auxBig.npy')\n",
    "    aerBig=np.load('predOutMassive/'+snname+'/aerBig.npy')\n",
    "    Xinput=np.load('predOutMassive/'+snname+'/Xinput.npy')\n",
    "    try:pivotCen,slopeCen,chisqList,pivotList,pivotIndexList,slopeList,slopeIndexList=BestSelecter(FitFlux,Xinput,matBig,auxBig,returnList=True)\n",
    "    except:continue\n",
    "    dm15List['pivot'].iloc[i]=pivotCen\n",
    "    dm15List['slope'].iloc[i]=slopeCen\n",
    "    \n",
    "    bestSeq=FitFlux[pivotIndexList[np.nanargmin(chisqList)],slopeIndexList[np.nanargmin(chisqList)]]\n",
    "    np.save('BestSeq/'+snname+'.npy',bestSeq)"
   ]
  },
  {
   "cell_type": "code",
   "execution_count": null,
   "id": "2abd7901",
   "metadata": {},
   "outputs": [],
   "source": [
    "dm15List.to_csv('dm15WithDens.csv')"
   ]
  },
  {
   "cell_type": "code",
   "execution_count": null,
   "id": "d557de69",
   "metadata": {},
   "outputs": [],
   "source": []
  },
  {
   "cell_type": "code",
   "execution_count": null,
   "id": "497e1e10",
   "metadata": {},
   "outputs": [],
   "source": []
  },
  {
   "cell_type": "code",
   "execution_count": null,
   "id": "06c4d789",
   "metadata": {},
   "outputs": [],
   "source": []
  },
  {
   "cell_type": "code",
   "execution_count": null,
   "id": "cf270ada",
   "metadata": {},
   "outputs": [],
   "source": []
  },
  {
   "cell_type": "code",
   "execution_count": null,
   "id": "fa0e8510",
   "metadata": {},
   "outputs": [],
   "source": []
  },
  {
   "cell_type": "code",
   "execution_count": null,
   "id": "f59c372c",
   "metadata": {},
   "outputs": [],
   "source": []
  }
 ],
 "metadata": {
  "kernelspec": {
   "display_name": "Python [conda env:.conda-pytorch] *",
   "language": "python",
   "name": "conda-env-.conda-pytorch-py"
  }
 },
 "nbformat": 4,
 "nbformat_minor": 5
}
